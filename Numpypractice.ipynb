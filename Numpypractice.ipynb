{
 "cells": [
  {
   "cell_type": "markdown",
   "id": "22d46e3f",
   "metadata": {},
   "source": [
    "# Dealing with NumPy"
   ]
  },
  {
   "cell_type": "code",
   "execution_count": 1,
   "id": "7ec94d80",
   "metadata": {},
   "outputs": [
    {
     "data": {
      "text/plain": [
       "array([2, 6, 3, 5])"
      ]
     },
     "execution_count": 1,
     "metadata": {},
     "output_type": "execute_result"
    }
   ],
   "source": [
    "import numpy as np\n",
    "myarr= np.array([2,6,3,5])\n",
    "myarr"
   ]
  },
  {
   "cell_type": "markdown",
   "id": "eec5cea2",
   "metadata": {},
   "source": [
    "this is one dimensional array"
   ]
  },
  {
   "cell_type": "code",
   "execution_count": 2,
   "id": "a9043520",
   "metadata": {
    "scrolled": true
   },
   "outputs": [
    {
     "data": {
      "text/plain": [
       "dtype('int32')"
      ]
     },
     "execution_count": 2,
     "metadata": {},
     "output_type": "execute_result"
    }
   ],
   "source": [
    "myarr.dtype"
   ]
  },
  {
   "cell_type": "code",
   "execution_count": 3,
   "id": "467e38ec",
   "metadata": {},
   "outputs": [],
   "source": [
    "myarr.shape"
   ]
  },
  {
   "cell_type": "code",
   "execution_count": 4,
   "id": "9e36895f",
   "metadata": {
    "scrolled": true
   },
   "outputs": [
    {
     "data": {
      "text/plain": [
       "array([2, 6, 3, 5])"
      ]
     },
     "execution_count": 4,
     "metadata": {},
     "output_type": "execute_result"
    }
   ],
   "source": [
    "myarr"
   ]
  },
  {
   "cell_type": "code",
   "execution_count": 5,
   "id": "ea670f18",
   "metadata": {
    "scrolled": false
   },
   "outputs": [
    {
     "data": {
      "text/plain": [
       "3"
      ]
     },
     "execution_count": 5,
     "metadata": {},
     "output_type": "execute_result"
    }
   ],
   "source": [
    "myarr[2]"
   ]
  },
  {
   "cell_type": "code",
   "execution_count": 6,
   "id": "92d98740",
   "metadata": {},
   "outputs": [],
   "source": [
    "myarr[2]=45"
   ]
  },
  {
   "cell_type": "code",
   "execution_count": 7,
   "id": "315eb2eb",
   "metadata": {},
   "outputs": [
    {
     "data": {
      "text/plain": [
       "array([ 2,  6, 45,  5])"
      ]
     },
     "execution_count": 7,
     "metadata": {},
     "output_type": "execute_result"
    }
   ],
   "source": [
    "myarr"
   ]
  },
  {
   "cell_type": "code",
   "execution_count": 8,
   "id": "84a2c804",
   "metadata": {},
   "outputs": [],
   "source": [
    "myarr1= np.array([[2,6,3,5]])"
   ]
  },
  {
   "cell_type": "markdown",
   "id": "cd6814b0",
   "metadata": {},
   "source": [
    "this is 2 dimensional aaray"
   ]
  },
  {
   "cell_type": "code",
   "execution_count": 9,
   "id": "91be815f",
   "metadata": {},
   "outputs": [
    {
     "data": {
      "text/plain": [
       "array([[2, 6, 3, 5]])"
      ]
     },
     "execution_count": 9,
     "metadata": {},
     "output_type": "execute_result"
    }
   ],
   "source": [
    "myarr1"
   ]
  },
  {
   "cell_type": "code",
   "execution_count": 10,
   "id": "b1f3f351",
   "metadata": {},
   "outputs": [
    {
     "data": {
      "text/plain": [
       "3"
      ]
     },
     "execution_count": 10,
     "metadata": {},
     "output_type": "execute_result"
    }
   ],
   "source": [
    "myarr1[0,2]"
   ]
  },
  {
   "cell_type": "code",
   "execution_count": 11,
   "id": "f7b17066",
   "metadata": {},
   "outputs": [],
   "source": [
    "myarr1[0,2]=22"
   ]
  },
  {
   "cell_type": "code",
   "execution_count": 12,
   "id": "4940d5e7",
   "metadata": {},
   "outputs": [
    {
     "data": {
      "text/plain": [
       "array([[ 2,  6, 22,  5]])"
      ]
     },
     "execution_count": 12,
     "metadata": {},
     "output_type": "execute_result"
    }
   ],
   "source": [
    "myarr1"
   ]
  },
  {
   "cell_type": "markdown",
   "id": "6c38a2b9",
   "metadata": {},
   "source": [
    "# Conversion from other Python structures"
   ]
  },
  {
   "cell_type": "code",
   "execution_count": 13,
   "id": "91753674",
   "metadata": {},
   "outputs": [],
   "source": [
    "lstarray=np.array([[2,5,7,5,8],[7,9,7,5,1]])"
   ]
  },
  {
   "cell_type": "code",
   "execution_count": 14,
   "id": "2e409e0f",
   "metadata": {},
   "outputs": [
    {
     "data": {
      "text/plain": [
       "array([[2, 5, 7, 5, 8],\n",
       "       [7, 9, 7, 5, 1]])"
      ]
     },
     "execution_count": 14,
     "metadata": {},
     "output_type": "execute_result"
    }
   ],
   "source": [
    "lstarray"
   ]
  },
  {
   "cell_type": "code",
   "execution_count": 15,
   "id": "bf552312",
   "metadata": {},
   "outputs": [
    {
     "data": {
      "text/plain": [
       "dtype('int32')"
      ]
     },
     "execution_count": 15,
     "metadata": {},
     "output_type": "execute_result"
    }
   ],
   "source": [
    "lstarray.dtype"
   ]
  },
  {
   "cell_type": "code",
   "execution_count": 16,
   "id": "ca1101ff",
   "metadata": {},
   "outputs": [
    {
     "data": {
      "text/plain": [
       "(2, 5)"
      ]
     },
     "execution_count": 16,
     "metadata": {},
     "output_type": "execute_result"
    }
   ],
   "source": [
    "lstarray.shape"
   ]
  },
  {
   "cell_type": "code",
   "execution_count": 17,
   "id": "d5cb41c3",
   "metadata": {},
   "outputs": [
    {
     "data": {
      "text/plain": [
       "10"
      ]
     },
     "execution_count": 17,
     "metadata": {},
     "output_type": "execute_result"
    }
   ],
   "source": [
    "lstarray.size"
   ]
  },
  {
   "cell_type": "code",
   "execution_count": 18,
   "id": "12184eb5",
   "metadata": {},
   "outputs": [
    {
     "data": {
      "text/plain": [
       "array({2, 4, 5, 6}, dtype=object)"
      ]
     },
     "execution_count": 18,
     "metadata": {},
     "output_type": "execute_result"
    }
   ],
   "source": [
    "np.array({2,6,5,4})"
   ]
  },
  {
   "cell_type": "markdown",
   "id": "c610f943",
   "metadata": {},
   "source": [
    "**Array Creation from Dictonary**"
   ]
  },
  {
   "cell_type": "code",
   "execution_count": 19,
   "id": "47383324",
   "metadata": {},
   "outputs": [],
   "source": [
    "lstarray1=np.array({2,7,8,9,57,5})"
   ]
  },
  {
   "cell_type": "code",
   "execution_count": 20,
   "id": "6587d63d",
   "metadata": {},
   "outputs": [
    {
     "data": {
      "text/plain": [
       "array({2, 5, 7, 8, 9, 57}, dtype=object)"
      ]
     },
     "execution_count": 20,
     "metadata": {},
     "output_type": "execute_result"
    }
   ],
   "source": [
    "lstarray1"
   ]
  },
  {
   "cell_type": "code",
   "execution_count": 21,
   "id": "4b616c6d",
   "metadata": {},
   "outputs": [
    {
     "data": {
      "text/plain": [
       "1"
      ]
     },
     "execution_count": 21,
     "metadata": {},
     "output_type": "execute_result"
    }
   ],
   "source": [
    "lstarray1.size"
   ]
  },
  {
   "cell_type": "code",
   "execution_count": 22,
   "id": "d037e5fd",
   "metadata": {},
   "outputs": [
    {
     "data": {
      "text/plain": [
       "(2, 5)"
      ]
     },
     "execution_count": 22,
     "metadata": {},
     "output_type": "execute_result"
    }
   ],
   "source": [
    "lstarray.shape"
   ]
  },
  {
   "cell_type": "code",
   "execution_count": 23,
   "id": "00738d3d",
   "metadata": {},
   "outputs": [
    {
     "data": {
      "text/plain": [
       "()"
      ]
     },
     "execution_count": 23,
     "metadata": {},
     "output_type": "execute_result"
    }
   ],
   "source": [
    "lstarray1.shape"
   ]
  },
  {
   "cell_type": "markdown",
   "id": "e3da68dd",
   "metadata": {},
   "source": [
    "# Intrinsic numpy array array creation objects (e.g., arange, ones, zeros, etc.)"
   ]
  },
  {
   "cell_type": "code",
   "execution_count": 24,
   "id": "3d0fe821",
   "metadata": {},
   "outputs": [],
   "source": [
    "zero=np.zeros((2,5))"
   ]
  },
  {
   "cell_type": "code",
   "execution_count": 25,
   "id": "4610da9d",
   "metadata": {},
   "outputs": [
    {
     "data": {
      "text/plain": [
       "array([[0., 0., 0., 0., 0.],\n",
       "       [0., 0., 0., 0., 0.]])"
      ]
     },
     "execution_count": 25,
     "metadata": {},
     "output_type": "execute_result"
    }
   ],
   "source": [
    "zero"
   ]
  },
  {
   "cell_type": "code",
   "execution_count": 26,
   "id": "bf753f52",
   "metadata": {},
   "outputs": [],
   "source": [
    "rng=np.arange(15)"
   ]
  },
  {
   "cell_type": "code",
   "execution_count": 27,
   "id": "d49c2a8b",
   "metadata": {},
   "outputs": [
    {
     "data": {
      "text/plain": [
       "array([ 0,  1,  2,  3,  4,  5,  6,  7,  8,  9, 10, 11, 12, 13, 14])"
      ]
     },
     "execution_count": 27,
     "metadata": {},
     "output_type": "execute_result"
    }
   ],
   "source": [
    "rng"
   ]
  },
  {
   "cell_type": "code",
   "execution_count": 28,
   "id": "9229fcfb",
   "metadata": {},
   "outputs": [],
   "source": [
    "one=np.ones((2,5))"
   ]
  },
  {
   "cell_type": "code",
   "execution_count": 29,
   "id": "26ed4942",
   "metadata": {
    "scrolled": true
   },
   "outputs": [
    {
     "data": {
      "text/plain": [
       "array([[1., 1., 1., 1., 1.],\n",
       "       [1., 1., 1., 1., 1.]])"
      ]
     },
     "execution_count": 29,
     "metadata": {},
     "output_type": "execute_result"
    }
   ],
   "source": [
    "one"
   ]
  },
  {
   "cell_type": "code",
   "execution_count": 30,
   "id": "85b7820c",
   "metadata": {},
   "outputs": [],
   "source": [
    "rng=np.arange(1,10,2)#last one is jumpindex=2"
   ]
  },
  {
   "cell_type": "code",
   "execution_count": 31,
   "id": "776bfe2f",
   "metadata": {},
   "outputs": [
    {
     "data": {
      "text/plain": [
       "array([1, 3, 5, 7, 9])"
      ]
     },
     "execution_count": 31,
     "metadata": {},
     "output_type": "execute_result"
    }
   ],
   "source": [
    "rng"
   ]
  },
  {
   "cell_type": "code",
   "execution_count": 32,
   "id": "470c1442",
   "metadata": {},
   "outputs": [],
   "source": [
    "rng=np.arange(2)"
   ]
  },
  {
   "cell_type": "code",
   "execution_count": 33,
   "id": "648f16e0",
   "metadata": {},
   "outputs": [
    {
     "data": {
      "text/plain": [
       "array([0, 1])"
      ]
     },
     "execution_count": 33,
     "metadata": {},
     "output_type": "execute_result"
    }
   ],
   "source": [
    "rng"
   ]
  },
  {
   "cell_type": "code",
   "execution_count": 34,
   "id": "16352671",
   "metadata": {},
   "outputs": [],
   "source": [
    "rng1=np.arange(101)"
   ]
  },
  {
   "cell_type": "code",
   "execution_count": 35,
   "id": "4f747837",
   "metadata": {},
   "outputs": [
    {
     "data": {
      "text/plain": [
       "array([0, 1])"
      ]
     },
     "execution_count": 35,
     "metadata": {},
     "output_type": "execute_result"
    }
   ],
   "source": [
    "rng"
   ]
  },
  {
   "cell_type": "code",
   "execution_count": 36,
   "id": "bc5c4781",
   "metadata": {},
   "outputs": [
    {
     "data": {
      "text/plain": [
       "array([  0,   1,   2,   3,   4,   5,   6,   7,   8,   9,  10,  11,  12,\n",
       "        13,  14,  15,  16,  17,  18,  19,  20,  21,  22,  23,  24,  25,\n",
       "        26,  27,  28,  29,  30,  31,  32,  33,  34,  35,  36,  37,  38,\n",
       "        39,  40,  41,  42,  43,  44,  45,  46,  47,  48,  49,  50,  51,\n",
       "        52,  53,  54,  55,  56,  57,  58,  59,  60,  61,  62,  63,  64,\n",
       "        65,  66,  67,  68,  69,  70,  71,  72,  73,  74,  75,  76,  77,\n",
       "        78,  79,  80,  81,  82,  83,  84,  85,  86,  87,  88,  89,  90,\n",
       "        91,  92,  93,  94,  95,  96,  97,  98,  99, 100])"
      ]
     },
     "execution_count": 36,
     "metadata": {},
     "output_type": "execute_result"
    }
   ],
   "source": [
    "rng1"
   ]
  },
  {
   "cell_type": "code",
   "execution_count": 37,
   "id": "dc77af9f",
   "metadata": {},
   "outputs": [],
   "source": [
    "rng1=np.arange(1,101,2)"
   ]
  },
  {
   "cell_type": "code",
   "execution_count": 38,
   "id": "98a594c2",
   "metadata": {},
   "outputs": [
    {
     "data": {
      "text/plain": [
       "array([ 1,  3,  5,  7,  9, 11, 13, 15, 17, 19, 21, 23, 25, 27, 29, 31, 33,\n",
       "       35, 37, 39, 41, 43, 45, 47, 49, 51, 53, 55, 57, 59, 61, 63, 65, 67,\n",
       "       69, 71, 73, 75, 77, 79, 81, 83, 85, 87, 89, 91, 93, 95, 97, 99])"
      ]
     },
     "execution_count": 38,
     "metadata": {},
     "output_type": "execute_result"
    }
   ],
   "source": [
    "rng1"
   ]
  },
  {
   "cell_type": "code",
   "execution_count": 39,
   "id": "e6393930",
   "metadata": {},
   "outputs": [],
   "source": [
    "rng1=np.arange(99)"
   ]
  },
  {
   "cell_type": "code",
   "execution_count": 40,
   "id": "921bac7f",
   "metadata": {},
   "outputs": [
    {
     "data": {
      "text/plain": [
       "array([ 0,  1,  2,  3,  4,  5,  6,  7,  8,  9, 10, 11, 12, 13, 14, 15, 16,\n",
       "       17, 18, 19, 20, 21, 22, 23, 24, 25, 26, 27, 28, 29, 30, 31, 32, 33,\n",
       "       34, 35, 36, 37, 38, 39, 40, 41, 42, 43, 44, 45, 46, 47, 48, 49, 50,\n",
       "       51, 52, 53, 54, 55, 56, 57, 58, 59, 60, 61, 62, 63, 64, 65, 66, 67,\n",
       "       68, 69, 70, 71, 72, 73, 74, 75, 76, 77, 78, 79, 80, 81, 82, 83, 84,\n",
       "       85, 86, 87, 88, 89, 90, 91, 92, 93, 94, 95, 96, 97, 98])"
      ]
     },
     "execution_count": 40,
     "metadata": {},
     "output_type": "execute_result"
    }
   ],
   "source": [
    "rng1"
   ]
  },
  {
   "cell_type": "code",
   "execution_count": 41,
   "id": "9ae9f253",
   "metadata": {},
   "outputs": [
    {
     "data": {
      "text/plain": [
       "array([ 3,  4,  5,  6,  7,  8,  9, 10, 11, 12, 13, 14, 15, 16, 17, 18, 19,\n",
       "       20, 21, 22, 23, 24, 25, 26, 27, 28, 29, 30, 31, 32])"
      ]
     },
     "execution_count": 41,
     "metadata": {},
     "output_type": "execute_result"
    }
   ],
   "source": [
    "np.arange(3,33)"
   ]
  },
  {
   "cell_type": "markdown",
   "id": "44666335",
   "metadata": {},
   "source": [
    "**linespace:- it will create a array with same line space it 1st and 2nd number will give the exact range of the number and the third one will give you how many number do you want to print**"
   ]
  },
  {
   "cell_type": "code",
   "execution_count": 42,
   "id": "39cb6af0",
   "metadata": {},
   "outputs": [],
   "source": [
    "lnsp=np.linspace(1,5,3)"
   ]
  },
  {
   "cell_type": "code",
   "execution_count": 43,
   "id": "ba65f13f",
   "metadata": {},
   "outputs": [
    {
     "data": {
      "text/plain": [
       "array([1., 3., 5.])"
      ]
     },
     "execution_count": 43,
     "metadata": {},
     "output_type": "execute_result"
    }
   ],
   "source": [
    "lnsp"
   ]
  },
  {
   "cell_type": "code",
   "execution_count": 44,
   "id": "fd4883e6",
   "metadata": {},
   "outputs": [],
   "source": [
    "lnsp=np.linspace(1,5,10)"
   ]
  },
  {
   "cell_type": "code",
   "execution_count": 45,
   "id": "58d6276f",
   "metadata": {},
   "outputs": [
    {
     "data": {
      "text/plain": [
       "array([1.        , 1.44444444, 1.88888889, 2.33333333, 2.77777778,\n",
       "       3.22222222, 3.66666667, 4.11111111, 4.55555556, 5.        ])"
      ]
     },
     "execution_count": 45,
     "metadata": {},
     "output_type": "execute_result"
    }
   ],
   "source": [
    "lnsp"
   ]
  },
  {
   "cell_type": "markdown",
   "id": "426280d5",
   "metadata": {},
   "source": [
    "**empty will give your desired empty array with random values of so you can change as per your need in row and column**"
   ]
  },
  {
   "cell_type": "code",
   "execution_count": 46,
   "id": "31488497",
   "metadata": {
    "scrolled": true
   },
   "outputs": [],
   "source": [
    "emp=np.empty((2,6))"
   ]
  },
  {
   "cell_type": "code",
   "execution_count": 47,
   "id": "79036ded",
   "metadata": {},
   "outputs": [
    {
     "data": {
      "text/plain": [
       "array([[6.38289234e-312, 2.47032823e-322, 0.00000000e+000,\n",
       "        0.00000000e+000, 1.10343781e-312, 3.69776220e-062],\n",
       "       [5.89330534e-091, 1.46495774e-075, 6.55124554e-043,\n",
       "        1.67501057e-076, 3.99910963e+252, 5.82471487e+257]])"
      ]
     },
     "execution_count": 47,
     "metadata": {},
     "output_type": "execute_result"
    }
   ],
   "source": [
    "emp"
   ]
  },
  {
   "cell_type": "markdown",
   "id": "3be2785c",
   "metadata": {},
   "source": [
    "**emptylike makes a copy of your old array and make it empty so that u can change as per your need**"
   ]
  },
  {
   "cell_type": "code",
   "execution_count": 48,
   "id": "ba0e26de",
   "metadata": {},
   "outputs": [],
   "source": [
    "emplike=np.empty_like(lnsp)"
   ]
  },
  {
   "cell_type": "code",
   "execution_count": 49,
   "id": "847c4b74",
   "metadata": {
    "scrolled": true
   },
   "outputs": [
    {
     "data": {
      "text/plain": [
       "array([6.38289234e-312, 2.47032823e-322, 1.10343781e-312, 3.69776220e-062,\n",
       "       5.89330534e-091, 1.46495774e-075, 6.55124554e-043, 1.67501057e-076,\n",
       "       3.99910963e+252, 5.82471487e+257])"
      ]
     },
     "execution_count": 49,
     "metadata": {},
     "output_type": "execute_result"
    }
   ],
   "source": [
    "emplike"
   ]
  },
  {
   "cell_type": "markdown",
   "id": "a416b83e",
   "metadata": {},
   "source": [
    "**np.identity will give you identity matrix of 0,1**"
   ]
  },
  {
   "cell_type": "code",
   "execution_count": 50,
   "id": "2a66688f",
   "metadata": {},
   "outputs": [],
   "source": [
    "ide=np.identity(20)"
   ]
  },
  {
   "cell_type": "code",
   "execution_count": 51,
   "id": "fc0f296f",
   "metadata": {},
   "outputs": [
    {
     "data": {
      "text/plain": [
       "array([[1., 0., 0., 0., 0., 0., 0., 0., 0., 0., 0., 0., 0., 0., 0., 0.,\n",
       "        0., 0., 0., 0.],\n",
       "       [0., 1., 0., 0., 0., 0., 0., 0., 0., 0., 0., 0., 0., 0., 0., 0.,\n",
       "        0., 0., 0., 0.],\n",
       "       [0., 0., 1., 0., 0., 0., 0., 0., 0., 0., 0., 0., 0., 0., 0., 0.,\n",
       "        0., 0., 0., 0.],\n",
       "       [0., 0., 0., 1., 0., 0., 0., 0., 0., 0., 0., 0., 0., 0., 0., 0.,\n",
       "        0., 0., 0., 0.],\n",
       "       [0., 0., 0., 0., 1., 0., 0., 0., 0., 0., 0., 0., 0., 0., 0., 0.,\n",
       "        0., 0., 0., 0.],\n",
       "       [0., 0., 0., 0., 0., 1., 0., 0., 0., 0., 0., 0., 0., 0., 0., 0.,\n",
       "        0., 0., 0., 0.],\n",
       "       [0., 0., 0., 0., 0., 0., 1., 0., 0., 0., 0., 0., 0., 0., 0., 0.,\n",
       "        0., 0., 0., 0.],\n",
       "       [0., 0., 0., 0., 0., 0., 0., 1., 0., 0., 0., 0., 0., 0., 0., 0.,\n",
       "        0., 0., 0., 0.],\n",
       "       [0., 0., 0., 0., 0., 0., 0., 0., 1., 0., 0., 0., 0., 0., 0., 0.,\n",
       "        0., 0., 0., 0.],\n",
       "       [0., 0., 0., 0., 0., 0., 0., 0., 0., 1., 0., 0., 0., 0., 0., 0.,\n",
       "        0., 0., 0., 0.],\n",
       "       [0., 0., 0., 0., 0., 0., 0., 0., 0., 0., 1., 0., 0., 0., 0., 0.,\n",
       "        0., 0., 0., 0.],\n",
       "       [0., 0., 0., 0., 0., 0., 0., 0., 0., 0., 0., 1., 0., 0., 0., 0.,\n",
       "        0., 0., 0., 0.],\n",
       "       [0., 0., 0., 0., 0., 0., 0., 0., 0., 0., 0., 0., 1., 0., 0., 0.,\n",
       "        0., 0., 0., 0.],\n",
       "       [0., 0., 0., 0., 0., 0., 0., 0., 0., 0., 0., 0., 0., 1., 0., 0.,\n",
       "        0., 0., 0., 0.],\n",
       "       [0., 0., 0., 0., 0., 0., 0., 0., 0., 0., 0., 0., 0., 0., 1., 0.,\n",
       "        0., 0., 0., 0.],\n",
       "       [0., 0., 0., 0., 0., 0., 0., 0., 0., 0., 0., 0., 0., 0., 0., 1.,\n",
       "        0., 0., 0., 0.],\n",
       "       [0., 0., 0., 0., 0., 0., 0., 0., 0., 0., 0., 0., 0., 0., 0., 0.,\n",
       "        1., 0., 0., 0.],\n",
       "       [0., 0., 0., 0., 0., 0., 0., 0., 0., 0., 0., 0., 0., 0., 0., 0.,\n",
       "        0., 1., 0., 0.],\n",
       "       [0., 0., 0., 0., 0., 0., 0., 0., 0., 0., 0., 0., 0., 0., 0., 0.,\n",
       "        0., 0., 1., 0.],\n",
       "       [0., 0., 0., 0., 0., 0., 0., 0., 0., 0., 0., 0., 0., 0., 0., 0.,\n",
       "        0., 0., 0., 1.]])"
      ]
     },
     "execution_count": 51,
     "metadata": {},
     "output_type": "execute_result"
    }
   ],
   "source": [
    "ide"
   ]
  },
  {
   "cell_type": "code",
   "execution_count": 52,
   "id": "28122cbc",
   "metadata": {},
   "outputs": [
    {
     "data": {
      "text/plain": [
       "(20, 20)"
      ]
     },
     "execution_count": 52,
     "metadata": {},
     "output_type": "execute_result"
    }
   ],
   "source": [
    "ide.shape"
   ]
  },
  {
   "cell_type": "markdown",
   "id": "c117ff98",
   "metadata": {},
   "source": [
    "**now there is 2 more method is present np.reshape and np.ravel**"
   ]
  },
  {
   "cell_type": "markdown",
   "id": "f9000d0e",
   "metadata": {},
   "source": [
    "**reshape will convert a 1d array into matrix form but u have to give the correct multiplication like 44(in 1d)=2x22(in 2d)**"
   ]
  },
  {
   "cell_type": "code",
   "execution_count": 53,
   "id": "9fa553b2",
   "metadata": {},
   "outputs": [],
   "source": [
    "arr=np.arange(44)"
   ]
  },
  {
   "cell_type": "code",
   "execution_count": 54,
   "id": "33d9cd3f",
   "metadata": {},
   "outputs": [
    {
     "data": {
      "text/plain": [
       "array([ 0,  1,  2,  3,  4,  5,  6,  7,  8,  9, 10, 11, 12, 13, 14, 15, 16,\n",
       "       17, 18, 19, 20, 21, 22, 23, 24, 25, 26, 27, 28, 29, 30, 31, 32, 33,\n",
       "       34, 35, 36, 37, 38, 39, 40, 41, 42, 43])"
      ]
     },
     "execution_count": 54,
     "metadata": {},
     "output_type": "execute_result"
    }
   ],
   "source": [
    "arr"
   ]
  },
  {
   "cell_type": "code",
   "execution_count": 55,
   "id": "fc8ea3e4",
   "metadata": {},
   "outputs": [],
   "source": [
    "arr=arr.reshape(44,1)"
   ]
  },
  {
   "cell_type": "code",
   "execution_count": 56,
   "id": "b2ff54a5",
   "metadata": {},
   "outputs": [
    {
     "data": {
      "text/plain": [
       "array([[ 0],\n",
       "       [ 1],\n",
       "       [ 2],\n",
       "       [ 3],\n",
       "       [ 4],\n",
       "       [ 5],\n",
       "       [ 6],\n",
       "       [ 7],\n",
       "       [ 8],\n",
       "       [ 9],\n",
       "       [10],\n",
       "       [11],\n",
       "       [12],\n",
       "       [13],\n",
       "       [14],\n",
       "       [15],\n",
       "       [16],\n",
       "       [17],\n",
       "       [18],\n",
       "       [19],\n",
       "       [20],\n",
       "       [21],\n",
       "       [22],\n",
       "       [23],\n",
       "       [24],\n",
       "       [25],\n",
       "       [26],\n",
       "       [27],\n",
       "       [28],\n",
       "       [29],\n",
       "       [30],\n",
       "       [31],\n",
       "       [32],\n",
       "       [33],\n",
       "       [34],\n",
       "       [35],\n",
       "       [36],\n",
       "       [37],\n",
       "       [38],\n",
       "       [39],\n",
       "       [40],\n",
       "       [41],\n",
       "       [42],\n",
       "       [43]])"
      ]
     },
     "execution_count": 56,
     "metadata": {},
     "output_type": "execute_result"
    }
   ],
   "source": [
    "arr"
   ]
  },
  {
   "cell_type": "markdown",
   "id": "414b0d86",
   "metadata": {},
   "source": [
    "**ravel will convert 2d into 1d**"
   ]
  },
  {
   "cell_type": "code",
   "execution_count": 57,
   "id": "02da6fed",
   "metadata": {},
   "outputs": [
    {
     "data": {
      "text/plain": [
       "array([ 0,  1,  2,  3,  4,  5,  6,  7,  8,  9, 10, 11, 12, 13, 14, 15, 16,\n",
       "       17, 18, 19, 20, 21, 22, 23, 24, 25, 26, 27, 28, 29, 30, 31, 32, 33,\n",
       "       34, 35, 36, 37, 38, 39, 40, 41, 42, 43])"
      ]
     },
     "execution_count": 57,
     "metadata": {},
     "output_type": "execute_result"
    }
   ],
   "source": [
    "arr.ravel()"
   ]
  },
  {
   "cell_type": "code",
   "execution_count": 58,
   "id": "eda97953",
   "metadata": {},
   "outputs": [
    {
     "data": {
      "text/plain": [
       "(44, 1)"
      ]
     },
     "execution_count": 58,
     "metadata": {},
     "output_type": "execute_result"
    }
   ],
   "source": [
    "arr.shape"
   ]
  },
  {
   "cell_type": "code",
   "execution_count": 59,
   "id": "4f82e0dd",
   "metadata": {},
   "outputs": [],
   "source": [
    "arr=arr.ravel()"
   ]
  },
  {
   "cell_type": "code",
   "execution_count": 60,
   "id": "1300ca12",
   "metadata": {},
   "outputs": [
    {
     "data": {
      "text/plain": [
       "(44,)"
      ]
     },
     "execution_count": 60,
     "metadata": {},
     "output_type": "execute_result"
    }
   ],
   "source": [
    "arr.shape"
   ]
  },
  {
   "cell_type": "code",
   "execution_count": 61,
   "id": "ad522b81",
   "metadata": {},
   "outputs": [
    {
     "data": {
      "text/plain": [
       "(44,)"
      ]
     },
     "execution_count": 61,
     "metadata": {},
     "output_type": "execute_result"
    }
   ],
   "source": [
    "arr.shape"
   ]
  },
  {
   "cell_type": "markdown",
   "id": "6b5723fe",
   "metadata": {},
   "source": [
    "**matrix operation /axis**"
   ]
  },
  {
   "cell_type": "code",
   "execution_count": 62,
   "id": "e1110ace",
   "metadata": {},
   "outputs": [],
   "source": [
    "x=[[1,3,5],[5,8,2],[4,2,3]]"
   ]
  },
  {
   "cell_type": "code",
   "execution_count": 63,
   "id": "9f17007f",
   "metadata": {},
   "outputs": [],
   "source": [
    "ar=np.array(x)"
   ]
  },
  {
   "cell_type": "code",
   "execution_count": 64,
   "id": "30556118",
   "metadata": {},
   "outputs": [
    {
     "data": {
      "text/plain": [
       "array([[1, 3, 5],\n",
       "       [5, 8, 2],\n",
       "       [4, 2, 3]])"
      ]
     },
     "execution_count": 64,
     "metadata": {},
     "output_type": "execute_result"
    }
   ],
   "source": [
    "ar"
   ]
  },
  {
   "cell_type": "code",
   "execution_count": 65,
   "id": "238552f9",
   "metadata": {},
   "outputs": [
    {
     "data": {
      "text/plain": [
       "array([10, 13, 10])"
      ]
     },
     "execution_count": 65,
     "metadata": {},
     "output_type": "execute_result"
    }
   ],
   "source": [
    "ar.sum(axis=0) #it will  add the column wise here there is 3 column (axis=0)"
   ]
  },
  {
   "cell_type": "code",
   "execution_count": 66,
   "id": "7b8e48f4",
   "metadata": {},
   "outputs": [
    {
     "data": {
      "text/plain": [
       "array([ 9, 15,  9])"
      ]
     },
     "execution_count": 66,
     "metadata": {},
     "output_type": "execute_result"
    }
   ],
   "source": [
    "ar.sum(axis=1)# it will add the row (axis=1)"
   ]
  },
  {
   "cell_type": "code",
   "execution_count": 67,
   "id": "0ca9627e",
   "metadata": {},
   "outputs": [
    {
     "data": {
      "text/plain": [
       "array([[1, 5, 4],\n",
       "       [3, 8, 2],\n",
       "       [5, 2, 3]])"
      ]
     },
     "execution_count": 67,
     "metadata": {},
     "output_type": "execute_result"
    }
   ],
   "source": [
    "ar.T #to transpose a matrix capital T is used"
   ]
  },
  {
   "cell_type": "code",
   "execution_count": 68,
   "id": "e87b77f4",
   "metadata": {},
   "outputs": [
    {
     "name": "stdout",
     "output_type": "stream",
     "text": [
      "[1 3 5]\n",
      "[5 8 2]\n",
      "[4 2 3]\n"
     ]
    }
   ],
   "source": [
    "for i in ar:\n",
    "    print(i)"
   ]
  },
  {
   "cell_type": "code",
   "execution_count": 69,
   "id": "c750b578",
   "metadata": {},
   "outputs": [
    {
     "name": "stdout",
     "output_type": "stream",
     "text": [
      "1\n",
      "3\n",
      "5\n",
      "5\n",
      "8\n",
      "2\n",
      "4\n",
      "2\n",
      "3\n"
     ]
    }
   ],
   "source": [
    "for i in ar.flat:\n",
    "    print(i)        #flat will give you a single single line"
   ]
  },
  {
   "cell_type": "code",
   "execution_count": 70,
   "id": "56af9221",
   "metadata": {},
   "outputs": [],
   "source": [
    "a=np.array([1,47,5,8,66])"
   ]
  },
  {
   "cell_type": "code",
   "execution_count": 71,
   "id": "33b243c3",
   "metadata": {},
   "outputs": [
    {
     "data": {
      "text/plain": [
       "4"
      ]
     },
     "execution_count": 71,
     "metadata": {},
     "output_type": "execute_result"
    }
   ],
   "source": [
    "a.argmax()#argmax will give u a index where the maximum value is present"
   ]
  },
  {
   "cell_type": "code",
   "execution_count": 72,
   "id": "53114495",
   "metadata": {},
   "outputs": [
    {
     "data": {
      "text/plain": [
       "0"
      ]
     },
     "execution_count": 72,
     "metadata": {},
     "output_type": "execute_result"
    }
   ],
   "source": [
    "a.argmin()#argmax will give u a index where the minimum value is present"
   ]
  },
  {
   "cell_type": "code",
   "execution_count": 73,
   "id": "0633c215",
   "metadata": {},
   "outputs": [
    {
     "data": {
      "text/plain": [
       "array([0, 2, 3, 1, 4], dtype=int64)"
      ]
     },
     "execution_count": 73,
     "metadata": {},
     "output_type": "execute_result"
    }
   ],
   "source": [
    "a.argsort()#argsort will give you a sorted array but in index form means which index is an sorted manner"
   ]
  },
  {
   "cell_type": "code",
   "execution_count": 74,
   "id": "5c5bf306",
   "metadata": {},
   "outputs": [
    {
     "data": {
      "text/plain": [
       "array([[1, 3, 5],\n",
       "       [5, 8, 2],\n",
       "       [4, 2, 3]])"
      ]
     },
     "execution_count": 74,
     "metadata": {},
     "output_type": "execute_result"
    }
   ],
   "source": [
    "ar"
   ]
  },
  {
   "cell_type": "code",
   "execution_count": 75,
   "id": "89415871",
   "metadata": {},
   "outputs": [
    {
     "data": {
      "text/plain": [
       "4"
      ]
     },
     "execution_count": 75,
     "metadata": {},
     "output_type": "execute_result"
    }
   ],
   "source": [
    "ar.argmax()"
   ]
  },
  {
   "cell_type": "code",
   "execution_count": 76,
   "id": "8c338785",
   "metadata": {},
   "outputs": [
    {
     "data": {
      "text/plain": [
       "0"
      ]
     },
     "execution_count": 76,
     "metadata": {},
     "output_type": "execute_result"
    }
   ],
   "source": [
    "ar.argmin()"
   ]
  },
  {
   "cell_type": "code",
   "execution_count": 77,
   "id": "84e7a0d5",
   "metadata": {},
   "outputs": [
    {
     "data": {
      "text/plain": [
       "array([1, 1, 0], dtype=int64)"
      ]
     },
     "execution_count": 77,
     "metadata": {},
     "output_type": "execute_result"
    }
   ],
   "source": [
    "ar.argmax(axis=0)"
   ]
  },
  {
   "cell_type": "code",
   "execution_count": 78,
   "id": "083b658d",
   "metadata": {},
   "outputs": [
    {
     "data": {
      "text/plain": [
       "array([2, 1, 0], dtype=int64)"
      ]
     },
     "execution_count": 78,
     "metadata": {},
     "output_type": "execute_result"
    }
   ],
   "source": [
    "ar.argmax(axis=1)"
   ]
  },
  {
   "cell_type": "code",
   "execution_count": 79,
   "id": "ffe4406c",
   "metadata": {},
   "outputs": [
    {
     "data": {
      "text/plain": [
       "array([0, 2, 1], dtype=int64)"
      ]
     },
     "execution_count": 79,
     "metadata": {},
     "output_type": "execute_result"
    }
   ],
   "source": [
    "ar.argmin(axis=0)"
   ]
  },
  {
   "cell_type": "code",
   "execution_count": 80,
   "id": "bde8d1c2",
   "metadata": {},
   "outputs": [
    {
     "data": {
      "text/plain": [
       "array([0, 2, 1], dtype=int64)"
      ]
     },
     "execution_count": 80,
     "metadata": {},
     "output_type": "execute_result"
    }
   ],
   "source": [
    "ar.argmin(axis=1)"
   ]
  },
  {
   "cell_type": "code",
   "execution_count": 81,
   "id": "7fca35f1",
   "metadata": {},
   "outputs": [
    {
     "data": {
      "text/plain": [
       "array([[0, 1, 2],\n",
       "       [2, 0, 1],\n",
       "       [1, 2, 0]], dtype=int64)"
      ]
     },
     "execution_count": 81,
     "metadata": {},
     "output_type": "execute_result"
    }
   ],
   "source": [
    "ar.argsort()"
   ]
  },
  {
   "cell_type": "code",
   "execution_count": 82,
   "id": "528dc4c1",
   "metadata": {},
   "outputs": [
    {
     "data": {
      "text/plain": [
       "array([[1],\n",
       "       [3],\n",
       "       [5],\n",
       "       [5],\n",
       "       [8],\n",
       "       [2],\n",
       "       [4],\n",
       "       [2],\n",
       "       [3]])"
      ]
     },
     "execution_count": 82,
     "metadata": {},
     "output_type": "execute_result"
    }
   ],
   "source": [
    "ar.reshape((9,1))"
   ]
  },
  {
   "cell_type": "code",
   "execution_count": 83,
   "id": "c5a0ef7d",
   "metadata": {},
   "outputs": [
    {
     "data": {
      "text/plain": [
       "array([1, 3, 5, 5, 8, 2, 4, 2, 3])"
      ]
     },
     "execution_count": 83,
     "metadata": {},
     "output_type": "execute_result"
    }
   ],
   "source": [
    "ar.ravel()"
   ]
  },
  {
   "cell_type": "code",
   "execution_count": 84,
   "id": "7656832c",
   "metadata": {},
   "outputs": [
    {
     "data": {
      "text/plain": [
       "array([[1, 3, 5],\n",
       "       [5, 8, 2],\n",
       "       [4, 2, 3]])"
      ]
     },
     "execution_count": 84,
     "metadata": {},
     "output_type": "execute_result"
    }
   ],
   "source": [
    "ar.reshape((3,3))"
   ]
  },
  {
   "cell_type": "markdown",
   "id": "88e0c88a",
   "metadata": {},
   "source": [
    "# MATRIX OPERATION"
   ]
  },
  {
   "cell_type": "code",
   "execution_count": 85,
   "id": "a2a5651e",
   "metadata": {},
   "outputs": [],
   "source": [
    "mat1=np.arange(9)"
   ]
  },
  {
   "cell_type": "code",
   "execution_count": 86,
   "id": "300481f2",
   "metadata": {},
   "outputs": [
    {
     "data": {
      "text/plain": [
       "array([0, 1, 2, 3, 4, 5, 6, 7, 8])"
      ]
     },
     "execution_count": 86,
     "metadata": {},
     "output_type": "execute_result"
    }
   ],
   "source": [
    "mat1"
   ]
  },
  {
   "cell_type": "code",
   "execution_count": 87,
   "id": "af1e4aff",
   "metadata": {},
   "outputs": [],
   "source": [
    "mat1=mat1.reshape((3,3))"
   ]
  },
  {
   "cell_type": "code",
   "execution_count": 88,
   "id": "87100c1a",
   "metadata": {},
   "outputs": [],
   "source": [
    "mat2=np.arange(9,18)"
   ]
  },
  {
   "cell_type": "code",
   "execution_count": 89,
   "id": "72b1365e",
   "metadata": {},
   "outputs": [
    {
     "data": {
      "text/plain": [
       "array([ 9, 10, 11, 12, 13, 14, 15, 16, 17])"
      ]
     },
     "execution_count": 89,
     "metadata": {},
     "output_type": "execute_result"
    }
   ],
   "source": [
    "mat2"
   ]
  },
  {
   "cell_type": "code",
   "execution_count": 90,
   "id": "8e9489fc",
   "metadata": {},
   "outputs": [],
   "source": [
    "mat2=mat2.reshape((3,3))"
   ]
  },
  {
   "cell_type": "code",
   "execution_count": 91,
   "id": "d057845e",
   "metadata": {},
   "outputs": [
    {
     "data": {
      "text/plain": [
       "array([[ 9, 11, 13],\n",
       "       [15, 17, 19],\n",
       "       [21, 23, 25]])"
      ]
     },
     "execution_count": 91,
     "metadata": {},
     "output_type": "execute_result"
    }
   ],
   "source": [
    "mat1+mat2"
   ]
  },
  {
   "cell_type": "code",
   "execution_count": 92,
   "id": "3dfc4be4",
   "metadata": {},
   "outputs": [
    {
     "data": {
      "text/plain": [
       "array([[  0,  10,  22],\n",
       "       [ 36,  52,  70],\n",
       "       [ 90, 112, 136]])"
      ]
     },
     "execution_count": 92,
     "metadata": {},
     "output_type": "execute_result"
    }
   ],
   "source": [
    "mat1*mat2"
   ]
  },
  {
   "cell_type": "code",
   "execution_count": 93,
   "id": "189f4bce",
   "metadata": {},
   "outputs": [
    {
     "data": {
      "text/plain": [
       "array([[-9, -9, -9],\n",
       "       [-9, -9, -9],\n",
       "       [-9, -9, -9]])"
      ]
     },
     "execution_count": 93,
     "metadata": {},
     "output_type": "execute_result"
    }
   ],
   "source": [
    "mat1-mat2"
   ]
  },
  {
   "cell_type": "code",
   "execution_count": 94,
   "id": "37a712ac",
   "metadata": {},
   "outputs": [
    {
     "data": {
      "text/plain": [
       "array([[0.        , 1.        , 1.41421356],\n",
       "       [1.73205081, 2.        , 2.23606798],\n",
       "       [2.44948974, 2.64575131, 2.82842712]])"
      ]
     },
     "execution_count": 94,
     "metadata": {},
     "output_type": "execute_result"
    }
   ],
   "source": [
    "np.sqrt(mat1)#square of elements"
   ]
  },
  {
   "cell_type": "markdown",
   "id": "2266e8b3",
   "metadata": {},
   "source": [
    "**To check why numpy is used instead of simple python array**"
   ]
  },
  {
   "cell_type": "code",
   "execution_count": null,
   "id": "35909f39",
   "metadata": {},
   "outputs": [],
   "source": [
    "import sys"
   ]
  },
  {
   "cell_type": "code",
   "execution_count": null,
   "id": "eb6828c3",
   "metadata": {},
   "outputs": [],
   "source": [
    "py_s= [2,78,5,8]"
   ]
  },
  {
   "cell_type": "code",
   "execution_count": null,
   "id": "f89f6a1c",
   "metadata": {},
   "outputs": [],
   "source": [
    "np_s= np.array(py_s)"
   ]
  },
  {
   "cell_type": "code",
   "execution_count": null,
   "id": "e78b71a5",
   "metadata": {},
   "outputs": [],
   "source": [
    "sys.getsizeof(1)*len(py_s)#simple python list is taking 112 bytes memory"
   ]
  },
  {
   "cell_type": "code",
   "execution_count": null,
   "id": "2b3baf49",
   "metadata": {},
   "outputs": [],
   "source": [
    "np_s.itemsize*np_s.size#numpy array is using 16 bytes of memory"
   ]
  },
  {
   "cell_type": "markdown",
   "id": "66ef840c",
   "metadata": {},
   "source": [
    "**to know more about numpy methods and attributes:- https://numpy.org/doc/stable/reference/generated/numpy.ndarray.html**"
   ]
  }
 ],
 "metadata": {
  "kernelspec": {
   "display_name": "Python 3 (ipykernel)",
   "language": "python",
   "name": "python3"
  },
  "language_info": {
   "codemirror_mode": {
    "name": "ipython",
    "version": 3
   },
   "file_extension": ".py",
   "mimetype": "text/x-python",
   "name": "python",
   "nbconvert_exporter": "python",
   "pygments_lexer": "ipython3",
   "version": "3.11.3"
  }
 },
 "nbformat": 4,
 "nbformat_minor": 5
}
